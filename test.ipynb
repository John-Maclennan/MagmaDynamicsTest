{
 "cells": [
  {
   "cell_type": "markdown",
   "metadata": {},
   "source": [
    "# This is a Test for Binder#\n",
    "Check you can see this text cell."
   ]
  },
  {
   "cell_type": "code",
   "execution_count": 2,
   "metadata": {},
   "outputs": [
    {
     "name": "stdout",
     "output_type": "stream",
     "text": [
      "hello\n"
     ]
    }
   ],
   "source": [
    "print('hello')"
   ]
  },
  {
   "cell_type": "markdown",
   "metadata": {},
   "source": [
    "## Import packages and set up functions"
   ]
  },
  {
   "cell_type": "code",
   "execution_count": 3,
   "metadata": {},
   "outputs": [],
   "source": [
    "import matplotlib.pyplot as plt\n",
    "import numpy as np\n",
    "\n",
    "x = np.arange(0.0, 2, 0.01)\n",
    "y1 = np.sin(2 * np.pi * x)\n",
    "y2 = 1.2 * np.sin(4 * np.pi * x)\n"
   ]
  },
  {
   "cell_type": "markdown",
   "metadata": {},
   "source": [
    "## Make a nice plot"
   ]
  },
  {
   "cell_type": "code",
   "execution_count": 4,
   "metadata": {},
   "outputs": [
    {
     "data": {
      "text/plain": [
       "Text(0.5, 0, 'x')"
      ]
     },
     "execution_count": 4,
     "metadata": {},
     "output_type": "execute_result"
    },
    {
     "data": {
      "image/png": "[encoded data removed]",
      "text/plain": [
       "<Figure size 432x288 with 3 Axes>"
      ]
     },
     "metadata": {
      "needs_background": "light"
     },
     "output_type": "display_data"
    }
   ],
   "source": [
    "fig, (ax1, ax2, ax3) = plt.subplots(3, 1, sharex=True)\n",
    "\n",
    "ax1.fill_between(x, 0, y1)\n",
    "ax1.set_ylabel('between y1 and 0')\n",
    "\n",
    "ax2.fill_between(x, y1, 1)\n",
    "ax2.set_ylabel('between y1 and 1')\n",
    "\n",
    "ax3.fill_between(x, y1, y2)\n",
    "ax3.set_ylabel('between y1 and y2')\n",
    "ax3.set_xlabel('x')"
   ]
  },
  {
   "cell_type": "markdown",
   "metadata": {},
   "source": [
    "## Read in a data file"
   ]
  },
  {
   "cell_type": "code",
   "execution_count": 5,
   "metadata": {},
   "outputs": [
    {
     "name": "stdout",
     "output_type": "stream",
     "text": [
      "  Method             Al        Ba             Ca        Ce   Distance  \\\n",
      "0   EPMA  164212.775907       NaN  107776.796998       NaN   0.000000   \n",
      "1   SIMS            NaN  7.271286   81940.944425  0.420267   0.606623   \n",
      "2   EPMA  164825.113211       NaN  108703.750923       NaN   4.990284   \n",
      "3   EPMA  163008.741882       NaN  107408.731254       NaN  10.077029   \n",
      "4   EPMA  163950.270027       NaN  108512.213797       NaN  15.040949   \n",
      "\n",
      "            Fe           K        La        Li  ...      Y_sd    Ba_sd  \\\n",
      "0  5988.356504  416.734184       NaN       NaN  ...       NaN      NaN   \n",
      "1          NaN  252.382556  0.246823  0.905019  ...  0.083414  1.84099   \n",
      "2  5910.626020  400.131229       NaN       NaN  ...       NaN      NaN   \n",
      "3  5766.047319  282.250244       NaN       NaN  ...       NaN      NaN   \n",
      "4  5689.871444  303.003939       NaN       NaN  ...       NaN      NaN   \n",
      "\n",
      "    La_sd     Ce_sd    Xan_sd       Fe_sd       Al_sd      Mn_sd       Na_sd  \\\n",
      "0     NaN       NaN  0.001332  136.498378  530.478932  70.467483  192.692231   \n",
      "1  0.1893  0.205076       NaN         NaN         NaN        NaN         NaN   \n",
      "2     NaN       NaN  0.001332  136.498378  530.478932  70.467483  192.692231   \n",
      "3     NaN       NaN  0.001332  136.498378  530.478932  70.467483  192.692231   \n",
      "4     NaN       NaN  0.001332  136.498378  530.478932  70.467483  192.692231   \n",
      "\n",
      "       Profile  \n",
      "0  SKU_1_C3_P3  \n",
      "1  SKU_1_C3_P3  \n",
      "2  SKU_1_C3_P3  \n",
      "3  SKU_1_C3_P3  \n",
      "4  SKU_1_C3_P3  \n",
      "\n",
      "[5 rows x 37 columns]\n"
     ]
    }
   ],
   "source": [
    "import pandas as pd\n",
    "test_df = pd.read_csv(\"SKU_1_C3_P3_plag_profile.csv\")\n",
    "\n",
    "print(test_df.head(5))"
   ]
  }
 ],
 "metadata": {
  "kernelspec": {
   "display_name": "Python 3",
   "language": "python",
   "name": "python3"
  },
  "language_info": {
   "codemirror_mode": {
    "name": "ipython",
    "version": 3
   },
   "file_extension": ".py",
   "mimetype": "text/x-python",
   "name": "python",
   "nbconvert_exporter": "python",
   "pygments_lexer": "ipython3",
   "version": "3.7.4"
  }
 },
 "nbformat": 4,
 "nbformat_minor": 2
}
